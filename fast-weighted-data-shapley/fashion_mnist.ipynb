{
 "cells": [
  {
   "cell_type": "code",
   "execution_count": 2,
   "metadata": {},
   "outputs": [
    {
     "name": "stderr",
     "output_type": "stream",
     "text": [
      "/home/pranoy/miniconda3/envs/betashapley/lib/python3.8/site-packages/tqdm/auto.py:21: TqdmWarning: IProgress not found. Please update jupyter and ipywidgets. See https://ipywidgets.readthedocs.io/en/stable/user_install.html\n",
      "  from .autonotebook import tqdm as notebook_tqdm\n"
     ]
    }
   ],
   "source": [
    "from train import ParameterizedShapleyEstimator\n",
    "from datasets import load_FashionMNIST, get_split_dataset, extract_features\n",
    "from cross_attention_model import EstimatorNetwork\n",
    "import torch\n",
    "import os\n",
    "import numpy as np\n",
    "\n",
    "# Setting this becases I am getting \"GET was unable to find a computation engine\"\n",
    "torch.backends.cudnn.enabled = False\n",
    "device = torch.device('cuda')"
   ]
  },
  {
   "cell_type": "code",
   "execution_count": 3,
   "metadata": {},
   "outputs": [],
   "source": [
    "# download datasets\n",
    "import torchvision\n",
    "\n",
    "# make directories\n",
    "if not os.path.exists(\"./datasets/\"):\n",
    "    os.mkdir(\"./datasets\")\n",
    "\n",
    "    train_ds = torchvision.datasets.FashionMNIST(\"./datasets/\", train = True, download = True)\n",
    "    test_ds = torchvision.datasets.FashionMNIST(\"./datasets/\", train = False, download = True)"
   ]
  },
  {
   "cell_type": "code",
   "execution_count": 4,
   "metadata": {},
   "outputs": [
    {
     "name": "stdout",
     "output_type": "stream",
     "text": [
      "Loading existing dataset\n"
     ]
    }
   ],
   "source": [
    "if os.path.exists(\"./datasets/train.npy\"):\n",
    "    print(\"Loading existing dataset\")\n",
    "    train = torch.load(\"./datasets/train.npy\")\n",
    "    test = torch.load(\"./datasets/test.npy\")\n",
    "    valid = torch.load(\"./datasets/valid.npy\")\n",
    "else:\n",
    "    data_path = [(\"./datasets/FashionMNIST/raw/\", \"train\")\n",
    "                ,(\"./datasets/FashionMNIST/raw/\", \"t10k\")]\n",
    "    data=  load_FashionMNIST(data_path)\n",
    "    train, test = data[\"train\"], data[\"t10k\"]\n",
    "    train, valid = get_split_dataset(train[0], train[1])\n",
    "\n",
    "    feature_extractor = torch.hub.load('pytorch/vision:v0.8.2', 'resnet18', pretrained=True).to(device)\n",
    "    feature_extractor.eval()\n",
    "\n",
    "    train = extract_features(feature_extractor, train[0]), torch.Tensor(train[1])\n",
    "    valid = extract_features(feature_extractor, valid[0]), torch.Tensor(valid[1])\n",
    "    test = extract_features(feature_extractor, test[0]), torch.Tensor(test[1])\n",
    "\n",
    "    torch.save(train, \"./datasets/train.npy\" )\n",
    "    torch.save(test, \"./datasets/test.npy\")\n",
    "    torch.save(valid, \"./datasets/valid.npy\")"
   ]
  },
  {
   "cell_type": "code",
   "execution_count": 7,
   "metadata": {},
   "outputs": [
    {
     "data": {
      "text/plain": [
       "(torch.Size([54000, 1000]),\n",
       " torch.Size([10000, 1000]),\n",
       " torch.Size([6000, 1000]),\n",
       " torch.Tensor)"
      ]
     },
     "execution_count": 7,
     "metadata": {},
     "output_type": "execute_result"
    }
   ],
   "source": [
    "train[0].shape, test[0].shape, valid[0].shape, type(train[0])"
   ]
  },
  {
   "cell_type": "code",
   "execution_count": 4,
   "metadata": {},
   "outputs": [
    {
     "name": "stdout",
     "output_type": "stream",
     "text": [
      "----- Epoch = 1 -----\n",
      "Val loss = 96.903641\n",
      "\n",
      "New best epoch: 0, loss = 96.90364077687263\n",
      "\n",
      "----- Epoch = 2 -----\n",
      "Val loss = 550.457507\n",
      "\n",
      "----- Epoch = 3 -----\n",
      "Val loss = 232.929021\n",
      "\n",
      "----- Epoch = 4 -----\n",
      "Val loss = 203.591757\n",
      "\n",
      "----- Epoch = 5 -----\n",
      "Val loss = 1727.032006\n",
      "\n",
      "----- Epoch = 6 -----\n",
      "Val loss = 31.433713\n",
      "\n",
      "New best epoch: 5, loss = 31.43371269106865\n",
      "\n",
      "----- Epoch = 7 -----\n",
      "Val loss = 305.281274\n",
      "\n",
      "----- Epoch = 8 -----\n",
      "Val loss = 252.471037\n",
      "\n",
      "----- Epoch = 9 -----\n",
      "Val loss = 524.364129\n",
      "\n",
      "----- Epoch = 10 -----\n",
      "Val loss = 177.049264\n",
      "\n",
      "----- Epoch = 11 -----\n",
      "Val loss = 69.129014\n",
      "\n",
      "----- Epoch = 12 -----\n",
      "Val loss = 1529.137373\n",
      "\n",
      "Epoch    12: reducing learning rate of group 0 to 1.0000e-04.\n",
      "----- Epoch = 13 -----\n",
      "Val loss = 561.532617\n",
      "\n",
      "----- Epoch = 14 -----\n",
      "Val loss = 382.282600\n",
      "\n",
      "----- Epoch = 15 -----\n",
      "Val loss = 820.807368\n",
      "\n",
      "----- Epoch = 16 -----\n",
      "Val loss = 601.900533\n",
      "\n",
      "Stopping early at epoch = 15\n"
     ]
    },
    {
     "data": {
      "text/plain": [
       "EstimatorNetwork(\n",
       "  (Wq): Linear(in_features=1000, out_features=64, bias=True)\n",
       "  (Wk): Linear(in_features=1000, out_features=64, bias=True)\n",
       "  (Wv): Linear(in_features=1000, out_features=64, bias=True)\n",
       "  (fc2): Linear(in_features=64, out_features=1, bias=True)\n",
       ")"
      ]
     },
     "execution_count": 4,
     "metadata": {},
     "output_type": "execute_result"
    }
   ],
   "source": [
    "from train import ParameterizedShapleyEstimator\n",
    "\n",
    "explainer = EstimatorNetwork(input_dim = 1000, query_dim = 64, value_dim = 64).to(device)\n",
    "estimator = ParameterizedShapleyEstimator(alpha=16, beta=1, explainer=explainer, dataset_name = \"fmnist\", normalization=None)\n",
    "estimator.train(train\n",
    "                , valid\n",
    "                , test\n",
    "                , max_epochs=100\n",
    "                , lookback=10\n",
    "                , K=5\n",
    "                , verbose=True)\n",
    "\n",
    "explainer.cpu()\n",
    "torch.save(explainer.state_dict(), 'explainer.pt')\n",
    "explainer.to(device)"
   ]
  },
  {
   "cell_type": "code",
   "execution_count": 10,
   "metadata": {},
   "outputs": [],
   "source": [
    "est = estimator.explainer.forward(train[0].to(device),test[0].to(device))"
   ]
  },
  {
   "cell_type": "code",
   "execution_count": 14,
   "metadata": {},
   "outputs": [
    {
     "data": {
      "text/plain": [
       "(tensor(0.3320, device='cuda:0', grad_fn=<MaxBackward1>),\n",
       " tensor(0.3153, device='cuda:0', grad_fn=<MinBackward1>),\n",
       " tensor(0.3239, device='cuda:0', grad_fn=<DivBackward0>))"
      ]
     },
     "execution_count": 14,
     "metadata": {},
     "output_type": "execute_result"
    }
   ],
   "source": [
    "torch.max(est),torch.min(est),torch.sum(est)/len(est)"
   ]
  },
  {
   "cell_type": "code",
   "execution_count": 16,
   "metadata": {},
   "outputs": [],
   "source": [
    "est = estimator.explainer.forward(train[0].to(device),train[0][:1000].to(device))"
   ]
  },
  {
   "cell_type": "code",
   "execution_count": 18,
   "metadata": {},
   "outputs": [
    {
     "data": {
      "text/plain": [
       "(tensor(0.3382, device='cuda:0', grad_fn=<MaxBackward1>),\n",
       " tensor(0.3182, device='cuda:0', grad_fn=<MinBackward1>),\n",
       " tensor(0.3287, device='cuda:0', grad_fn=<DivBackward0>))"
      ]
     },
     "execution_count": 18,
     "metadata": {},
     "output_type": "execute_result"
    }
   ],
   "source": [
    "torch.max(est),torch.min(est),torch.sum(est)/len(est)"
   ]
  },
  {
   "cell_type": "code",
   "execution_count": null,
   "metadata": {},
   "outputs": [],
   "source": []
  }
 ],
 "metadata": {
  "kernelspec": {
   "display_name": "Python 3.9.13 ('.venv': venv)",
   "language": "python",
   "name": "python3"
  },
  "language_info": {
   "codemirror_mode": {
    "name": "ipython",
    "version": 3
   },
   "file_extension": ".py",
   "mimetype": "text/x-python",
   "name": "python",
   "nbconvert_exporter": "python",
   "pygments_lexer": "ipython3",
   "version": "3.8.16"
  },
  "orig_nbformat": 4,
  "vscode": {
   "interpreter": {
    "hash": "24a20feccd22badaa09d30df77dc61b01315edf2979bdb034bbdc69bbe45bf31"
   }
  }
 },
 "nbformat": 4,
 "nbformat_minor": 2
}
