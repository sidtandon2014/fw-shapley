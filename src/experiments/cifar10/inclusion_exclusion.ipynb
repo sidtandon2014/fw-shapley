{
 "cells": [
  {
   "cell_type": "code",
   "execution_count": null,
   "metadata": {},
   "outputs": [],
   "source": [
    "#!/usr/bin/python\n",
    "from __future__ import absolute_import\n",
    "\n",
    "import sys\n",
    "sys.path.append(\"../../\")\n",
    "\n",
    "import numpy as np\n",
    "#from tensorflow import keras\n",
    "import os\n",
    "import argparse\n",
    "import copy\n",
    "import random\n",
    "import time\n",
    "import torch\n",
    "\n",
    "from shapley.apps import Label, InclusionExclusion\n",
    "from shapley.loader import FashionMnist, MNIST, Flower, CIFAR\n",
    "from shapley.measures import KNN_Shapley, KNN_LOO, G_Shapley, LOO, TMC_Shapley, FastWeightedShapley\n",
    "from shapley.utils.plotter import LabelPlotter, PoisoningPlotter\n",
    "\n",
    "%matplotlib inline\n",
    "# import global vars\n",
    "import init \n",
    "\n",
    "seed = 1023\n",
    "init.set_seed(seed)\n",
    "torch.backends.cudnn.enabled = False\n",
    "\n",
    "assert torch.cuda.is_available(), \"CUDA not availabel\""
   ]
  },
  {
   "cell_type": "code",
   "execution_count": null,
   "metadata": {},
   "outputs": [],
   "source": [
    "num_train = 50000\n",
    "num_test = 10000\n",
    "datasource = \"cifar\"\n",
    "model_family = \"resnet18\"\n",
    "app_name = \"inclusion_exclusion\"\n",
    "model_checkpoint_dir = f\"../../checkpoints/{app_name}/{datasource}\"\n",
    "\n",
    "if not os.path.exists(model_checkpoint_dir):\n",
    "    os.makedirs(model_checkpoint_dir)\n",
    "\n",
    "\n",
    "#loader = MNIST(num_train=num, one_hot=False, shuffle=True, by_label=True)\n",
    "loader = CIFAR(num_train=num_train,num_test = num_test, all_classes=True, seed = seed)\n",
    "# loader = Flower(num_train=num)\n",
    "X_data, y_data, X_test_data, y_test_data = loader.prepare_data()\n",
    "print(X_test_data.shape, X_data.shape)"
   ]
  },
  {
   "cell_type": "code",
   "execution_count": null,
   "metadata": {},
   "outputs": [],
   "source": [
    "start = time.time()\n",
    "\n",
    "measure_fast_weighted_shapley = FastWeightedShapley(K = init.K, model_checkpoint_dir=model_checkpoint_dir)\n",
    "app = InclusionExclusion(X=X_data\n",
    "                        , y=y_data\n",
    "                        , X_test=X_test_data\n",
    "                        , y_test=y_test_data\n",
    "                        , method_name = \"fw_shapley\"\n",
    "                        , app_name = app_name\n",
    "                        , dataset = \"cifar\"\n",
    "                        , model_family=model_family\n",
    "                        , model_checkpoint_dir=model_checkpoint_dir)\n",
    "exclusion_scores = app.run(measure_fast_weighted_shapley)\n",
    "exclusion_scores"
   ]
  },
  {
   "cell_type": "code",
   "execution_count": null,
   "metadata": {},
   "outputs": [],
   "source": [
    "import matplotlib.pyplot as plt\n",
    "import seaborn as sns\n",
    "tmp = torch.concat(measure_fast_weighted_shapley.utility).to(\"cpu\")\n",
    "# for _ in range(100)\n",
    "indexes = torch.randperm(tmp.shape[0])[:10000]\n",
    "sns.kdeplot(tmp[indexes])"
   ]
  },
  {
   "cell_type": "markdown",
   "metadata": {},
   "source": [
    "### KNN Shapley"
   ]
  },
  {
   "cell_type": "code",
   "execution_count": null,
   "metadata": {},
   "outputs": [],
   "source": [
    "start = time.time()\n",
    "\n",
    "measure_KNN = KNN_Shapley(K=10)\n",
    "app = InclusionExclusion(X=X_data\n",
    "                        , y=y_data\n",
    "                        , X_test=X_test_data\n",
    "                        , y_test=y_test_data\n",
    "                        , method_name = \"knn_shapley\"\n",
    "                        , app_name = app_name\n",
    "                        , dataset = \"cifar\"\n",
    "                        , model_family=model_family\n",
    "                        , model_checkpoint_dir=model_checkpoint_dir)\n",
    "exclusion_scores = app.run(measure_KNN)\n"
   ]
  },
  {
   "cell_type": "code",
   "execution_count": null,
   "metadata": {},
   "outputs": [],
   "source": [
    "scores = np.load(\"../../results/inclusion_exclusion/cifar/knn_shapley_exc_scores.npy\")\n",
    "scores"
   ]
  },
  {
   "cell_type": "code",
   "execution_count": null,
   "metadata": {},
   "outputs": [],
   "source": [
    "import matplotlib.pyplot as plt\n",
    "import numpy as np\n",
    "shap_scores = np.load(\"../../results/inclusion_exclusion/cifar/fw_shapley_shap_scores.npy\")[:,0]\n",
    "plt.hist(shap_scores)"
   ]
  },
  {
   "cell_type": "code",
   "execution_count": null,
   "metadata": {},
   "outputs": [],
   "source": [
    "import matplotlib.pyplot as plt\n",
    "from matplotlib import cm\n",
    "from PIL import Image\n",
    "\n",
    "shap_scores = np.load(\"../../results/inclusion_exclusion/cifar/fw_shapley_shap_scores.npy\")[:,0]\n",
    "indexes = np.argsort(shap_scores).copy()\n",
    "\n",
    "\n",
    "plt.figure(figsize=(20, 20))\n",
    "\n",
    "print(np.bincount(y_data[indexes[:200],0]))\n",
    "for i, index in enumerate(indexes[:100]):\n",
    "    inst_x = X_data[index]\n",
    "    # inst_x = inst_x.reshape(28, 28)\n",
    "    # inst_x = Image.fromarray(np.uint8(inst_x))\n",
    "    plt.subplot(10, 5, i+1)\n",
    "    plt.imshow(inst_x.transpose(1,2,0))\n",
    "    plt.title(y_data[index])"
   ]
  },
  {
   "cell_type": "code",
   "execution_count": null,
   "metadata": {},
   "outputs": [],
   "source": [
    "print(np.bincount(y_data[indexes[:100],0]))"
   ]
  }
 ],
 "metadata": {
  "kernelspec": {
   "display_name": "Python 3.9.13 ('.venv': venv)",
   "language": "python",
   "name": "python3"
  },
  "language_info": {
   "codemirror_mode": {
    "name": "ipython",
    "version": 3
   },
   "file_extension": ".py",
   "mimetype": "text/x-python",
   "name": "python",
   "nbconvert_exporter": "python",
   "pygments_lexer": "ipython3",
   "version": "3.9.13"
  },
  "orig_nbformat": 4,
  "vscode": {
   "interpreter": {
    "hash": "24a20feccd22badaa09d30df77dc61b01315edf2979bdb034bbdc69bbe45bf31"
   }
  }
 },
 "nbformat": 4,
 "nbformat_minor": 2
}
