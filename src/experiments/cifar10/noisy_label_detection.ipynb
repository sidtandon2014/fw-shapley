{
 "cells": [
  {
   "cell_type": "code",
   "execution_count": null,
   "metadata": {
    "scrolled": true
   },
   "outputs": [],
   "source": [
    "#!/usr/bin/python\n",
    "from __future__ import absolute_import\n",
    "\n",
    "import sys\n",
    "sys.path.append(\"../../\")\n",
    "\n",
    "import numpy as np\n",
    "#from tensorflow import keras\n",
    "import pickle\n",
    "import argparse\n",
    "import copy\n",
    "import random\n",
    "import time\n",
    "import torch\n",
    "import pickle\n",
    "\n",
    "from shapley.apps import Label, Poisoning\n",
    "from shapley.loader import FashionMnist, MNIST, Flower, CIFAR\n",
    "from shapley.measures import KNN_Shapley, KNN_LOO, G_Shapley, LOO, TMC_Shapley, FastWeightedShapley\n",
    "from shapley.utils.plotter import LabelPlotter, PoisoningPlotter\n",
    "\n",
    "%matplotlib inline\n",
    "# import global vars\n",
    "from init import set_seed\n",
    "\n",
    "seed = 1023\n",
    "set_seed(seed)\n",
    "torch.backends.cudnn.enabled = False"
   ]
  },
  {
   "cell_type": "code",
   "execution_count": null,
   "metadata": {},
   "outputs": [],
   "source": [
    "torch.cuda.is_available()"
   ]
  },
  {
   "cell_type": "code",
   "execution_count": null,
   "metadata": {},
   "outputs": [],
   "source": [
    "num_train = 60000\n",
    "num_test = 10000\n",
    "datasource = \"cifar\"\n",
    "model_family = \"resnet18\"\n",
    "app_name = \"noisy_label\"\n",
    "model_checkpoint_dir = f\"../../checkpoints/{app_name}/{datasource}\"\n",
    "\n",
    "\n",
    "#loader = MNIST(num_train=num, one_hot=False, shuffle=True, by_label=True)\n",
    "loader = CIFAR(num_train=num_train,num_test = num_test, all_classes=True, seed = seed)\n",
    "# loader = Flower(num_train=num)\n",
    "X_data, y_data, X_test_data, y_test_data = loader.prepare_data()\n",
    "print(X_test_data.shape, X_data.shape)"
   ]
  },
  {
   "cell_type": "code",
   "execution_count": null,
   "metadata": {},
   "outputs": [],
   "source": [
    "app = Label(X_data, y_data, X_test_data, y_test_data, model_family=model_family, model_checkpoint_dir=model_checkpoint_dir)\n",
    "with open(\"./app_label.pkl\", 'wb') as outp:\n",
    "    pickle.dump(app, outp, pickle.HIGHEST_PROTOCOL)"
   ]
  },
  {
   "cell_type": "code",
   "execution_count": null,
   "metadata": {},
   "outputs": [],
   "source": [
    "# FW Shapley (1,1)\n",
    "start = time.time()\n",
    "\n",
    "measure_fast_weighted_shapley = FastWeightedShapley(K = 5, model_checkpoint_dir=model_checkpoint_dir, alpha=1, beta=1)\n",
    "\n",
    "res = app.run(measure_fast_weighted_shapley)\n",
    "res_fwshapley = np.zeros(len(res))\n",
    "for i in range(len(res)): res_fwshapley[i] = res[i][0]\n",
    "print('Fast Weighted Shapley compute time: ',time.time()-start)\n",
    "np.save(f\"../../results/{app_name}/{datasource}/fw_shapley_results_1_1.npy\", res)"
   ]
  },
  {
   "cell_type": "code",
   "execution_count": null,
   "metadata": {},
   "outputs": [],
   "source": [
    "# FW Shapley (1,1)\n",
    "start = time.time()\n",
    "\n",
    "measure_fast_weighted_shapley = FastWeightedShapley(K = 5, model_checkpoint_dir=model_checkpoint_dir, alpha=4, beta=1)\n",
    "\n",
    "res = app.run(measure_fast_weighted_shapley)\n",
    "res_fwshapley = np.zeros(len(res))\n",
    "for i in range(len(res)): res_fwshapley[i] = res[i][0]\n",
    "print('Fast Weighted Shapley compute time: ',time.time()-start)\n",
    "np.save(f\"../../results/{app_name}/{datasource}/fw_shapley_results_4_1.npy\", res)"
   ]
  },
  {
   "cell_type": "code",
   "execution_count": null,
   "metadata": {},
   "outputs": [],
   "source": [
    "# FW Shapley (1,1)\n",
    "start = time.time()\n",
    "\n",
    "measure_fast_weighted_shapley = FastWeightedShapley(K = 5, model_checkpoint_dir=model_checkpoint_dir, alpha=8, beta=1)\n",
    "\n",
    "res = app.run(measure_fast_weighted_shapley)\n",
    "res_fwshapley = np.zeros(len(res))\n",
    "for i in range(len(res)): res_fwshapley[i] = res[i][0]\n",
    "print('Fast Weighted Shapley compute time: ',time.time()-start)\n",
    "np.save(f\"../../results/{app_name}/{datasource}/fw_shapley_results_8_1.npy\", res)"
   ]
  },
  {
   "cell_type": "code",
   "execution_count": null,
   "metadata": {},
   "outputs": [],
   "source": [
    "start = time.time()\n",
    "\n",
    "measure_fast_weighted_shapley = FastWeightedShapley(K = 5, model_checkpoint_dir=model_checkpoint_dir, alpha=16, beta=1)\n",
    "\n",
    "res = app.run(measure_fast_weighted_shapley)\n",
    "res_fwshapley = np.zeros(len(res))\n",
    "for i in range(len(res)): res_fwshapley[i] = res[i][0]\n",
    "print('Fast Weighted Shapley compute time: ',time.time()-start)\n",
    "np.save(f\"../../results/{app_name}/{datasource}/fw_shapley_results_16_1.npy\", res)"
   ]
  },
  {
   "cell_type": "markdown",
   "metadata": {},
   "source": [
    "### Get data improtance using other measures"
   ]
  },
  {
   "cell_type": "code",
   "execution_count": null,
   "metadata": {},
   "outputs": [],
   "source": [
    "# if 'app' not in locals() or not app:\n",
    "#     with open('./app_label.pkl', 'rb') as inp:\n",
    "#         app = pickle.load(inp)\n",
    "\n",
    "measure_KNN = KNN_Shapley(K=5)\n",
    "measure_KNNLOO = KNN_LOO(K=5)\n",
    "measure_gshap = G_Shapley()\n",
    "measure_tmc = TMC_Shapley()\n",
    "measure_LOO = LOO()\n",
    "\n",
    "dir_path = f\"../../results/{app_name}/{datasource}\"\n",
    "\n",
    "start = time.time()\n",
    "res_knn = app.run(measure_KNN)\n",
    "print('KNN Shapley compute time: ',time.time()-start)\n",
    "np.save(f\"{dir_path}/knn_shapley_results.npy\", res_knn)\n",
    "\n",
    "start = time.time()\n",
    "res_knnloo = app.run(measure_KNNLOO)\n",
    "print('KNN LOO compute time: ',time.time()-start)\n",
    "np.save(f\"{dir_path}/res_knnloo.npy\", res_knnloo)\n",
    "\n",
    "start = time.time()\n",
    "res_gshap = app.run(measure_gshap)\n",
    "print('GShapley compute time: ',time.time()-start)\n",
    "np.save(f\"{dir_path}/g_shapley_results.npy\", res_gshap)\n",
    "\n",
    "# start = time.time()\n",
    "# res_tmc = app.run(measure_tmc)\n",
    "# print('TMC Shapley compute time: ',time.time()-start)\n",
    "# np.save(f\"{dir_path}/tmc_results.npy\", res_tmc)\n",
    "\n",
    "# start = time.time()\n",
    "# res_loo = app.run(measure_LOO)\n",
    "# print('LOO compute time: ',time.time()-start)\n"
   ]
  },
  {
   "cell_type": "markdown",
   "metadata": {},
   "source": [
    "### Plot importances"
   ]
  },
  {
   "cell_type": "code",
   "execution_count": null,
   "metadata": {},
   "outputs": [],
   "source": [
    "import matplotlib.pyplot as plt\n",
    "plt.hist(res_fwshapley)"
   ]
  },
  {
   "cell_type": "code",
   "execution_count": null,
   "metadata": {},
   "outputs": [],
   "source": [
    "with open('./app_label.pkl', 'rb') as inp:\n",
    "    app = pickle.load(inp)"
   ]
  },
  {
   "cell_type": "code",
   "execution_count": null,
   "metadata": {},
   "outputs": [],
   "source": [
    "# res_fwshapley = res[:,0]\n",
    "dir_path = f\"../../results/{app_name}/{datasource}\"\n",
    "res_fwshapley_16_1 = np.load(f\"{dir_path}/fw_shapley_results_16_1.npy\")[:,0]\n",
    "res_fwshapley_1_1 = np.load(f\"{dir_path}/fw_shapley_results_1_1.npy\")[:,0]\n",
    "res_fwshapley_4_1 = np.load(f\"{dir_path}/fw_shapley_results_4_1.npy\")[:,0]\n",
    "res_fwshapley_8_1 = np.load(f\"{dir_path}/fw_shapley_results_8_1.npy\")[:,0]\n",
    "# res_knn = np.load(f\"{dir_path}/knn_shapley_results.npy\")\n",
    "# res_gshap = np.load(f\"{dir_path}/g_shapley_results.npy\")\n",
    "# res_knnloo = np.load(f\"{dir_path}/res_knnloo.npy\")\n",
    "\n",
    "LabelPlotter(app, \n",
    "                  ('KNN-Shapley',res_knn),\n",
    "                #   ('G-Shapley',res_gshap),\n",
    "                #   ('KNN-LOO',res_knnloo),\n",
    "                 \n",
    "                 ('FW-Shapley (1,1)', res_fwshapley_1_1),\n",
    "                 ('FW-Shapley (4,1)', res_fwshapley_4_1),\n",
    "                 ('FW-Shapley (8,1)', res_fwshapley_8_1),\n",
    "                 ('FW-Shapley (16,1)', res_fwshapley_16_1)\n",
    "                 ).plot()"
   ]
  },
  {
   "cell_type": "code",
   "execution_count": null,
   "metadata": {},
   "outputs": [],
   "source": [
    "res_fwshapley"
   ]
  },
  {
   "cell_type": "code",
   "execution_count": null,
   "metadata": {},
   "outputs": [],
   "source": [
    "# High importance images\n",
    "import matplotlib.pyplot as plt\n",
    "from matplotlib import cm\n",
    "from PIL import Image\n",
    "\n",
    "indexes = np.argsort(res_fwshapley)\n",
    "\n",
    "\n",
    "plt.figure(figsize=(20, 20))\n",
    "\n",
    "\n",
    "for i, index in enumerate(indexes[:20]):\n",
    "    inst_x = X_data[index]\n",
    "    inst_x = inst_x.reshape(28, 28)\n",
    "    # inst_x = Image.fromarray(np.uint8(inst_x))\n",
    "    plt.subplot(10, 5, i+1)\n",
    "    plt.imshow(inst_x, cmap='gray')\n",
    "    plt.title(y_data[index])\n",
    "\n",
    "plt.savefig(f\"./figs/{datasource}/fw-shapley.png\")"
   ]
  },
  {
   "cell_type": "code",
   "execution_count": null,
   "metadata": {},
   "outputs": [],
   "source": [
    "# High importance images\n",
    "\n",
    "import matplotlib.pyplot as plt\n",
    "from matplotlib import cm\n",
    "from PIL import Image\n",
    "\n",
    "indexes = np.argsort(-res_knn)\n",
    "plt.figure(figsize=(20, 20))\n",
    "for i, index in enumerate(indexes[:20]):\n",
    "    inst_x = X_data[index]\n",
    "    inst_x = inst_x.reshape(28, 28)\n",
    "    # inst_x = Image.fromarray(np.uint8(inst_x))\n",
    "    plt.subplot(10, 5, i+1)\n",
    "    plt.imshow(inst_x, cmap='gray')\n",
    "    plt.title(y_data[index])\n"
   ]
  }
 ],
 "metadata": {
  "kernelspec": {
   "display_name": "Python 3.7.3 64-bit",
   "language": "python",
   "name": "python3"
  },
  "language_info": {
   "codemirror_mode": {
    "name": "ipython",
    "version": 3
   },
   "file_extension": ".py",
   "mimetype": "text/x-python",
   "name": "python",
   "nbconvert_exporter": "python",
   "pygments_lexer": "ipython3",
   "version": "3.7.3"
  },
  "vscode": {
   "interpreter": {
    "hash": "916dbcbb3f70747c44a77c7bcd40155683ae19c65e1c03b4aa3499c5328201f1"
   }
  }
 },
 "nbformat": 4,
 "nbformat_minor": 2
}
