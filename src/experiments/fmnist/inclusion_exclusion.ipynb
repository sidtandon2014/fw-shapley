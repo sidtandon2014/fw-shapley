{
 "cells": [
  {
   "cell_type": "code",
   "execution_count": 1,
   "metadata": {},
   "outputs": [
    {
     "name": "stderr",
     "output_type": "stream",
     "text": [
      "2023-07-22 08:01:06.988300: I tensorflow/core/platform/cpu_feature_guard.cc:182] This TensorFlow binary is optimized to use available CPU instructions in performance-critical operations.\n",
      "To enable the following instructions: AVX2 FMA, in other operations, rebuild TensorFlow with the appropriate compiler flags.\n",
      "2023-07-22 08:01:07.961969: W tensorflow/compiler/tf2tensorrt/utils/py_utils.cc:38] TF-TRT Warning: Could not find TensorRT\n"
     ]
    },
    {
     "name": "stdout",
     "output_type": "stream",
     "text": [
      "WARNING:tensorflow:From /home/sidtandon/Sid/GitRepo/fast-data-shapley/.venv/lib/python3.9/site-packages/tensorflow/python/compat/v2_compat.py:107: disable_resource_variables (from tensorflow.python.ops.variable_scope) is deprecated and will be removed in a future version.\n",
      "Instructions for updating:\n",
      "non-resource variables are not supported in the long term\n",
      "Loaded Global Variables!\n"
     ]
    },
    {
     "name": "stderr",
     "output_type": "stream",
     "text": [
      "/home/sidtandon/Sid/GitRepo/fast-data-shapley/.venv/lib/python3.9/site-packages/tqdm/auto.py:21: TqdmWarning: IProgress not found. Please update jupyter and ipywidgets. See https://ipywidgets.readthedocs.io/en/stable/user_install.html\n",
      "  from .autonotebook import tqdm as notebook_tqdm\n"
     ]
    }
   ],
   "source": [
    "#!/usr/bin/python\n",
    "from __future__ import absolute_import\n",
    "\n",
    "import sys\n",
    "sys.path.append(\"../../\")\n",
    "\n",
    "import numpy as np\n",
    "#from tensorflow import keras\n",
    "import os\n",
    "import argparse\n",
    "import copy\n",
    "import random\n",
    "import time\n",
    "import torch\n",
    "\n",
    "from shapley.apps import Label, InclusionExclusion\n",
    "from shapley.loader import FashionMnist, MNIST, Flower, CIFAR\n",
    "from shapley.measures import KNN_Shapley, KNN_LOO, G_Shapley, LOO, TMC_Shapley, FastWeightedShapley\n",
    "from shapley.utils.plotter import LabelPlotter, PoisoningPlotter\n",
    "\n",
    "%matplotlib inline\n",
    "# import global vars\n",
    "from init import set_seed\n",
    "\n",
    "seed = 1023\n",
    "set_seed(seed)\n",
    "torch.backends.cudnn.enabled = False\n",
    "\n",
    "assert torch.cuda.is_available(), \"CUDA not availabel\""
   ]
  },
  {
   "cell_type": "code",
   "execution_count": 2,
   "metadata": {},
   "outputs": [
    {
     "name": "stdout",
     "output_type": "stream",
     "text": [
      "(10000, 1, 28, 28) (50000, 1, 28, 28)\n"
     ]
    }
   ],
   "source": [
    "num_train = 60000\n",
    "num_test = 10000\n",
    "datasource = \"fmnist\"\n",
    "model_family = \"resnet18\"\n",
    "app_name = \"inclusion_exclusion\"\n",
    "model_checkpoint_dir = f\"../../checkpoints/{app_name}/{datasource}\"\n",
    "\n",
    "if not os.path.exists(model_checkpoint_dir):\n",
    "    os.makedirs(model_checkpoint_dir)\n",
    "\n",
    "\n",
    "#loader = MNIST(num_train=num, one_hot=False, shuffle=True, by_label=True)\n",
    "loader = FashionMnist(num_train=num_train,num_test = num_test, all_classes=True, seed = seed)\n",
    "# loader = Flower(num_train=num)\n",
    "X_data, y_data, X_test_data, y_test_data = loader.prepare_data()\n",
    "print(X_test_data.shape, X_data.shape)"
   ]
  },
  {
   "cell_type": "code",
   "execution_count": 3,
   "metadata": {},
   "outputs": [
    {
     "name": "stdout",
     "output_type": "stream",
     "text": [
      "Loading existing resnet18 model weights\n",
      "Calculating SHAP scores\n",
      "Loaded model acc 91.21 on test set\n",
      "Extracting features from resnet model\n",
      "Loading existing explainer model weights\n"
     ]
    },
    {
     "name": "stderr",
     "output_type": "stream",
     "text": [
      "Inference: 100%|██████████| 30/30 [00:05<00:00,  5.95batch/s]\n",
      "/home/sidtandon/Sid/GitRepo/fast-data-shapley/.venv/lib/python3.9/site-packages/sklearn/linear_model/_logistic.py:1222: UserWarning: 'n_jobs' > 1 does not have any effect when 'solver' is set to 'liblinear'. Got 'n_jobs' = 16.\n",
      "  warnings.warn(\n",
      "/home/sidtandon/Sid/GitRepo/fast-data-shapley/.venv/lib/python3.9/site-packages/sklearn/linear_model/_logistic.py:1222: UserWarning: 'n_jobs' > 1 does not have any effect when 'solver' is set to 'liblinear'. Got 'n_jobs' = 16.\n",
      "  warnings.warn(\n",
      "/home/sidtandon/Sid/GitRepo/fast-data-shapley/.venv/lib/python3.9/site-packages/sklearn/linear_model/_logistic.py:1222: UserWarning: 'n_jobs' > 1 does not have any effect when 'solver' is set to 'liblinear'. Got 'n_jobs' = 16.\n",
      "  warnings.warn(\n",
      "/home/sidtandon/Sid/GitRepo/fast-data-shapley/.venv/lib/python3.9/site-packages/sklearn/linear_model/_logistic.py:1222: UserWarning: 'n_jobs' > 1 does not have any effect when 'solver' is set to 'liblinear'. Got 'n_jobs' = 16.\n",
      "  warnings.warn(\n",
      "/home/sidtandon/Sid/GitRepo/fast-data-shapley/.venv/lib/python3.9/site-packages/sklearn/linear_model/_logistic.py:1222: UserWarning: 'n_jobs' > 1 does not have any effect when 'solver' is set to 'liblinear'. Got 'n_jobs' = 16.\n",
      "  warnings.warn(\n",
      "/home/sidtandon/Sid/GitRepo/fast-data-shapley/.venv/lib/python3.9/site-packages/sklearn/linear_model/_logistic.py:1222: UserWarning: 'n_jobs' > 1 does not have any effect when 'solver' is set to 'liblinear'. Got 'n_jobs' = 16.\n",
      "  warnings.warn(\n",
      "/home/sidtandon/Sid/GitRepo/fast-data-shapley/.venv/lib/python3.9/site-packages/sklearn/linear_model/_logistic.py:1222: UserWarning: 'n_jobs' > 1 does not have any effect when 'solver' is set to 'liblinear'. Got 'n_jobs' = 16.\n",
      "  warnings.warn(\n",
      "/home/sidtandon/Sid/GitRepo/fast-data-shapley/.venv/lib/python3.9/site-packages/sklearn/linear_model/_logistic.py:1222: UserWarning: 'n_jobs' > 1 does not have any effect when 'solver' is set to 'liblinear'. Got 'n_jobs' = 16.\n",
      "  warnings.warn(\n",
      "/home/sidtandon/Sid/GitRepo/fast-data-shapley/.venv/lib/python3.9/site-packages/sklearn/linear_model/_logistic.py:1222: UserWarning: 'n_jobs' > 1 does not have any effect when 'solver' is set to 'liblinear'. Got 'n_jobs' = 16.\n",
      "  warnings.warn(\n",
      "/home/sidtandon/Sid/GitRepo/fast-data-shapley/.venv/lib/python3.9/site-packages/sklearn/linear_model/_logistic.py:1222: UserWarning: 'n_jobs' > 1 does not have any effect when 'solver' is set to 'liblinear'. Got 'n_jobs' = 16.\n",
      "  warnings.warn(\n",
      "/home/sidtandon/Sid/GitRepo/fast-data-shapley/.venv/lib/python3.9/site-packages/sklearn/linear_model/_logistic.py:1222: UserWarning: 'n_jobs' > 1 does not have any effect when 'solver' is set to 'liblinear'. Got 'n_jobs' = 16.\n",
      "  warnings.warn(\n"
     ]
    },
    {
     "ename": "ValueError",
     "evalue": "This solver needs samples of at least 2 classes in the data, but the data contains only one class: 7",
     "output_type": "error",
     "traceback": [
      "\u001b[0;31m---------------------------------------------------------------------------\u001b[0m",
      "\u001b[0;31mValueError\u001b[0m                                Traceback (most recent call last)",
      "Cell \u001b[0;32mIn[3], line 13\u001b[0m\n\u001b[1;32m      3\u001b[0m measure_fast_weighted_shapley \u001b[38;5;241m=\u001b[39m FastWeightedShapley(K \u001b[38;5;241m=\u001b[39m \u001b[38;5;241m5\u001b[39m, model_checkpoint_dir\u001b[38;5;241m=\u001b[39mmodel_checkpoint_dir)\n\u001b[1;32m      4\u001b[0m app \u001b[38;5;241m=\u001b[39m InclusionExclusion(X\u001b[38;5;241m=\u001b[39mX_data\n\u001b[1;32m      5\u001b[0m                         , y\u001b[38;5;241m=\u001b[39my_data\n\u001b[1;32m      6\u001b[0m                         , X_test\u001b[38;5;241m=\u001b[39mX_test_data\n\u001b[0;32m   (...)\u001b[0m\n\u001b[1;32m     11\u001b[0m                         , model_family\u001b[38;5;241m=\u001b[39mmodel_family\n\u001b[1;32m     12\u001b[0m                         , model_checkpoint_dir\u001b[38;5;241m=\u001b[39mmodel_checkpoint_dir)\n\u001b[0;32m---> 13\u001b[0m exclusion_scores \u001b[38;5;241m=\u001b[39m \u001b[43mapp\u001b[49m\u001b[38;5;241;43m.\u001b[39;49m\u001b[43mrun\u001b[49m\u001b[43m(\u001b[49m\u001b[43mmeasure_fast_weighted_shapley\u001b[49m\u001b[43m)\u001b[49m\n",
      "File \u001b[0;32m~/Sid/GitRepo/fast-data-shapley/fast-weighted-data-shapley/experiments/fmnist/../../shapley/apps/InclusionExclusion.py:58\u001b[0m, in \u001b[0;36mInclusionExclusion.run\u001b[0;34m(self, measure)\u001b[0m\n\u001b[1;32m     55\u001b[0m scores \u001b[39m=\u001b[39m {\u001b[39m\"\u001b[39m\u001b[39mmean\u001b[39m\u001b[39m\"\u001b[39m:shap_scores[:,\u001b[39m0\u001b[39m],\u001b[39m\"\u001b[39m\u001b[39msum\u001b[39m\u001b[39m\"\u001b[39m:shap_scores[:,\u001b[39m1\u001b[39m], \u001b[39m\"\u001b[39m\u001b[39mmax\u001b[39m\u001b[39m\"\u001b[39m:shap_scores[:,\u001b[39m2\u001b[39m]}\n\u001b[1;32m     57\u001b[0m scores \u001b[39m=\u001b[39m shap_scores[:,\u001b[39m0\u001b[39m]\n\u001b[0;32m---> 58\u001b[0m point_exclusion_scores \u001b[39m=\u001b[39m \u001b[39mself\u001b[39;49m\u001b[39m.\u001b[39;49mpoint_exclusion_exp(scores)\n\u001b[1;32m     59\u001b[0m point_inclusion_scores \u001b[39m=\u001b[39m \u001b[39mself\u001b[39m\u001b[39m.\u001b[39mpoint_inclusion_exp(scores)\n\u001b[1;32m     61\u001b[0m exclusion_results_file \u001b[39m=\u001b[39m \u001b[39mf\u001b[39m\u001b[39m\"\u001b[39m\u001b[39m{\u001b[39;00m\u001b[39mself\u001b[39m\u001b[39m.\u001b[39mresults_dir\u001b[39m}\u001b[39;00m\u001b[39m/\u001b[39m\u001b[39m{\u001b[39;00m\u001b[39mself\u001b[39m\u001b[39m.\u001b[39mmethod_name\u001b[39m}\u001b[39;00m\u001b[39m_exc_scores.npy\u001b[39m\u001b[39m\"\u001b[39m\n",
      "File \u001b[0;32m~/Sid/GitRepo/fast-data-shapley/fast-weighted-data-shapley/experiments/fmnist/../../shapley/apps/InclusionExclusion.py:104\u001b[0m, in \u001b[0;36mInclusionExclusion.point_exclusion_exp\u001b[0;34m(self, shap_scores)\u001b[0m\n\u001b[1;32m    101\u001b[0m \u001b[39mdef\u001b[39;00m \u001b[39mpoint_exclusion_exp\u001b[39m(\u001b[39mself\u001b[39m, shap_scores):\n\u001b[1;32m    102\u001b[0m     \u001b[39m# Exclude least important data point first (value order: decreasing)\u001b[39;00m\n\u001b[1;32m    103\u001b[0m     percentiles \u001b[39m=\u001b[39m [\u001b[39m99\u001b[39m, \u001b[39m95\u001b[39m, \u001b[39m90\u001b[39m, \u001b[39m85\u001b[39m, \u001b[39m75\u001b[39m, \u001b[39m50\u001b[39m, \u001b[39m25\u001b[39m, \u001b[39m15\u001b[39m, \u001b[39m10\u001b[39m, \u001b[39m5\u001b[39m, \u001b[39m1\u001b[39m]\n\u001b[0;32m--> 104\u001b[0m     vals\u001b[39m=\u001b[39m\u001b[39mself\u001b[39;49m\u001b[39m.\u001b[39;49mpoint_inclusion_exclusion_exp_core(np\u001b[39m.\u001b[39;49margsort(shap_scores)[::\u001b[39m-\u001b[39;49m\u001b[39m1\u001b[39;49m], percentiles)\n\u001b[1;32m    106\u001b[0m     \u001b[39mreturn\u001b[39;00m vals\n",
      "File \u001b[0;32m~/Sid/GitRepo/fast-data-shapley/fast-weighted-data-shapley/experiments/fmnist/../../shapley/apps/InclusionExclusion.py:96\u001b[0m, in \u001b[0;36mInclusionExclusion.point_inclusion_exclusion_exp_core\u001b[0;34m(self, shap_scores_index_desc, percentiles)\u001b[0m\n\u001b[1;32m     93\u001b[0m     X_subset \u001b[39m=\u001b[39m \u001b[39mself\u001b[39m\u001b[39m.\u001b[39mX_embeddings[shap_scores_index_desc[:(total_points_to_consider\u001b[39m+\u001b[39m\u001b[39m1\u001b[39m)]\u001b[39m.\u001b[39mcopy()]\n\u001b[1;32m     94\u001b[0m     y_subset \u001b[39m=\u001b[39m \u001b[39mself\u001b[39m\u001b[39m.\u001b[39my_embeddings[shap_scores_index_desc[:(total_points_to_consider\u001b[39m+\u001b[39m\u001b[39m1\u001b[39m)]\u001b[39m.\u001b[39mcopy()]\n\u001b[0;32m---> 96\u001b[0m     \u001b[39mself\u001b[39;49m\u001b[39m.\u001b[39;49minclusion_exclusion_evaluation_model\u001b[39m.\u001b[39;49mfit(X_subset, y_subset)\n\u001b[1;32m     97\u001b[0m     vals\u001b[39m.\u001b[39mappend((top_k_sources, \u001b[39mself\u001b[39m\u001b[39m.\u001b[39minclusion_exclusion_evaluation_model\u001b[39m.\u001b[39mscore(X\u001b[39m=\u001b[39m\u001b[39mself\u001b[39m\u001b[39m.\u001b[39mX_test_embeddings, y\u001b[39m=\u001b[39m\u001b[39mself\u001b[39m\u001b[39m.\u001b[39my_test_embeddings)))\n\u001b[1;32m     99\u001b[0m \u001b[39mreturn\u001b[39;00m np\u001b[39m.\u001b[39marray(vals)\n",
      "File \u001b[0;32m~/Sid/GitRepo/fast-data-shapley/.venv/lib/python3.9/site-packages/sklearn/base.py:1151\u001b[0m, in \u001b[0;36m_fit_context.<locals>.decorator.<locals>.wrapper\u001b[0;34m(estimator, *args, **kwargs)\u001b[0m\n\u001b[1;32m   1144\u001b[0m     estimator\u001b[39m.\u001b[39m_validate_params()\n\u001b[1;32m   1146\u001b[0m \u001b[39mwith\u001b[39;00m config_context(\n\u001b[1;32m   1147\u001b[0m     skip_parameter_validation\u001b[39m=\u001b[39m(\n\u001b[1;32m   1148\u001b[0m         prefer_skip_nested_validation \u001b[39mor\u001b[39;00m global_skip_validation\n\u001b[1;32m   1149\u001b[0m     )\n\u001b[1;32m   1150\u001b[0m ):\n\u001b[0;32m-> 1151\u001b[0m     \u001b[39mreturn\u001b[39;00m fit_method(estimator, \u001b[39m*\u001b[39;49margs, \u001b[39m*\u001b[39;49m\u001b[39m*\u001b[39;49mkwargs)\n",
      "File \u001b[0;32m~/Sid/GitRepo/fast-data-shapley/.venv/lib/python3.9/site-packages/sklearn/linear_model/_logistic.py:1227\u001b[0m, in \u001b[0;36mLogisticRegression.fit\u001b[0;34m(self, X, y, sample_weight)\u001b[0m\n\u001b[1;32m   1221\u001b[0m     \u001b[39mif\u001b[39;00m effective_n_jobs(\u001b[39mself\u001b[39m\u001b[39m.\u001b[39mn_jobs) \u001b[39m!=\u001b[39m \u001b[39m1\u001b[39m:\n\u001b[1;32m   1222\u001b[0m         warnings\u001b[39m.\u001b[39mwarn(\n\u001b[1;32m   1223\u001b[0m             \u001b[39m\"\u001b[39m\u001b[39m'\u001b[39m\u001b[39mn_jobs\u001b[39m\u001b[39m'\u001b[39m\u001b[39m > 1 does not have any effect when\u001b[39m\u001b[39m\"\u001b[39m\n\u001b[1;32m   1224\u001b[0m             \u001b[39m\"\u001b[39m\u001b[39m \u001b[39m\u001b[39m'\u001b[39m\u001b[39msolver\u001b[39m\u001b[39m'\u001b[39m\u001b[39m is set to \u001b[39m\u001b[39m'\u001b[39m\u001b[39mliblinear\u001b[39m\u001b[39m'\u001b[39m\u001b[39m. Got \u001b[39m\u001b[39m'\u001b[39m\u001b[39mn_jobs\u001b[39m\u001b[39m'\u001b[39m\u001b[39m\"\u001b[39m\n\u001b[1;32m   1225\u001b[0m             \u001b[39m\"\u001b[39m\u001b[39m = \u001b[39m\u001b[39m{}\u001b[39;00m\u001b[39m.\u001b[39m\u001b[39m\"\u001b[39m\u001b[39m.\u001b[39mformat(effective_n_jobs(\u001b[39mself\u001b[39m\u001b[39m.\u001b[39mn_jobs))\n\u001b[1;32m   1226\u001b[0m         )\n\u001b[0;32m-> 1227\u001b[0m     \u001b[39mself\u001b[39m\u001b[39m.\u001b[39mcoef_, \u001b[39mself\u001b[39m\u001b[39m.\u001b[39mintercept_, \u001b[39mself\u001b[39m\u001b[39m.\u001b[39mn_iter_ \u001b[39m=\u001b[39m _fit_liblinear(\n\u001b[1;32m   1228\u001b[0m         X,\n\u001b[1;32m   1229\u001b[0m         y,\n\u001b[1;32m   1230\u001b[0m         \u001b[39mself\u001b[39;49m\u001b[39m.\u001b[39;49mC,\n\u001b[1;32m   1231\u001b[0m         \u001b[39mself\u001b[39;49m\u001b[39m.\u001b[39;49mfit_intercept,\n\u001b[1;32m   1232\u001b[0m         \u001b[39mself\u001b[39;49m\u001b[39m.\u001b[39;49mintercept_scaling,\n\u001b[1;32m   1233\u001b[0m         \u001b[39mself\u001b[39;49m\u001b[39m.\u001b[39;49mclass_weight,\n\u001b[1;32m   1234\u001b[0m         \u001b[39mself\u001b[39;49m\u001b[39m.\u001b[39;49mpenalty,\n\u001b[1;32m   1235\u001b[0m         \u001b[39mself\u001b[39;49m\u001b[39m.\u001b[39;49mdual,\n\u001b[1;32m   1236\u001b[0m         \u001b[39mself\u001b[39;49m\u001b[39m.\u001b[39;49mverbose,\n\u001b[1;32m   1237\u001b[0m         \u001b[39mself\u001b[39;49m\u001b[39m.\u001b[39;49mmax_iter,\n\u001b[1;32m   1238\u001b[0m         \u001b[39mself\u001b[39;49m\u001b[39m.\u001b[39;49mtol,\n\u001b[1;32m   1239\u001b[0m         \u001b[39mself\u001b[39;49m\u001b[39m.\u001b[39;49mrandom_state,\n\u001b[1;32m   1240\u001b[0m         sample_weight\u001b[39m=\u001b[39;49msample_weight,\n\u001b[1;32m   1241\u001b[0m     )\n\u001b[1;32m   1242\u001b[0m     \u001b[39mreturn\u001b[39;00m \u001b[39mself\u001b[39m\n\u001b[1;32m   1244\u001b[0m \u001b[39mif\u001b[39;00m solver \u001b[39min\u001b[39;00m [\u001b[39m\"\u001b[39m\u001b[39msag\u001b[39m\u001b[39m\"\u001b[39m, \u001b[39m\"\u001b[39m\u001b[39msaga\u001b[39m\u001b[39m\"\u001b[39m]:\n",
      "File \u001b[0;32m~/Sid/GitRepo/fast-data-shapley/.venv/lib/python3.9/site-packages/sklearn/svm/_base.py:1179\u001b[0m, in \u001b[0;36m_fit_liblinear\u001b[0;34m(X, y, C, fit_intercept, intercept_scaling, class_weight, penalty, dual, verbose, max_iter, tol, random_state, multi_class, loss, epsilon, sample_weight)\u001b[0m\n\u001b[1;32m   1177\u001b[0m     classes_ \u001b[39m=\u001b[39m enc\u001b[39m.\u001b[39mclasses_\n\u001b[1;32m   1178\u001b[0m     \u001b[39mif\u001b[39;00m \u001b[39mlen\u001b[39m(classes_) \u001b[39m<\u001b[39m \u001b[39m2\u001b[39m:\n\u001b[0;32m-> 1179\u001b[0m         \u001b[39mraise\u001b[39;00m \u001b[39mValueError\u001b[39;00m(\n\u001b[1;32m   1180\u001b[0m             \u001b[39m\"\u001b[39m\u001b[39mThis solver needs samples of at least 2 classes\u001b[39m\u001b[39m\"\u001b[39m\n\u001b[1;32m   1181\u001b[0m             \u001b[39m\"\u001b[39m\u001b[39m in the data, but the data contains only one\u001b[39m\u001b[39m\"\u001b[39m\n\u001b[1;32m   1182\u001b[0m             \u001b[39m\"\u001b[39m\u001b[39m class: \u001b[39m\u001b[39m%r\u001b[39;00m\u001b[39m\"\u001b[39m\n\u001b[1;32m   1183\u001b[0m             \u001b[39m%\u001b[39m classes_[\u001b[39m0\u001b[39m]\n\u001b[1;32m   1184\u001b[0m         )\n\u001b[1;32m   1186\u001b[0m     class_weight_ \u001b[39m=\u001b[39m compute_class_weight(class_weight, classes\u001b[39m=\u001b[39mclasses_, y\u001b[39m=\u001b[39my)\n\u001b[1;32m   1187\u001b[0m \u001b[39melse\u001b[39;00m:\n",
      "\u001b[0;31mValueError\u001b[0m: This solver needs samples of at least 2 classes in the data, but the data contains only one class: 7"
     ]
    }
   ],
   "source": [
    "start = time.time()\n",
    "\n",
    "measure_fast_weighted_shapley = FastWeightedShapley(K = 5, model_checkpoint_dir=model_checkpoint_dir)\n",
    "app = InclusionExclusion(X=X_data\n",
    "                        , y=y_data\n",
    "                        , X_test=X_test_data\n",
    "                        , y_test=y_test_data\n",
    "                        , method_name = \"fw_shapley\"\n",
    "                        , app_name = app_name\n",
    "                        , dataset = \"cifar\"\n",
    "                        , model_family=model_family\n",
    "                        , model_checkpoint_dir=model_checkpoint_dir)\n",
    "exclusion_scores = app.run(measure_fast_weighted_shapley)\n"
   ]
  },
  {
   "cell_type": "code",
   "execution_count": 5,
   "metadata": {},
   "outputs": [
    {
     "data": {
      "text/plain": [
       "(array([1.5000e+01, 2.8000e+01, 4.3000e+01, 7.2600e+02, 3.5192e+04,\n",
       "        1.0000e+00, 5.9990e+03, 1.0000e+00, 4.0000e+00, 1.7991e+04]),\n",
       " array([0.01624645, 0.01699121, 0.01773596, 0.01848072, 0.01922548,\n",
       "        0.01997023, 0.02071499, 0.02145974, 0.0222045 , 0.02294926,\n",
       "        0.02369401]),\n",
       " <BarContainer object of 10 artists>)"
      ]
     },
     "execution_count": 5,
     "metadata": {},
     "output_type": "execute_result"
    },
    {
     "data": {
      "image/png": "[encoded data removed]",
      "text/plain": [
       "<Figure size 640x480 with 1 Axes>"
      ]
     },
     "metadata": {},
     "output_type": "display_data"
    }
   ],
   "source": [
    "import matplotlib.pyplot as plt\n",
    "shap_scores = np.load(\"../../results/inclusion_exclusion/fmnist/fw_shapley_shap_scores.npy\")[:,0]\n",
    "plt.hist(shap_scores)"
   ]
  },
  {
   "cell_type": "code",
   "execution_count": 23,
   "metadata": {},
   "outputs": [
    {
     "name": "stdout",
     "output_type": "stream",
     "text": [
      "\n",
      "[   0    0    0    0    0    6    0 5994    0  100]\n"
     ]
    },
    {
     "data": {
      "text/plain": [
       "<Figure size 2000x2000 with 0 Axes>"
      ]
     },
     "metadata": {},
     "output_type": "display_data"
    }
   ],
   "source": [
    "import matplotlib.pyplot as plt\n",
    "from matplotlib import cm\n",
    "from PIL import Image\n",
    "\n",
    "shap_scores = np.load(\"../../results/inclusion_exclusion/fmnist/fw_shapley_shap_scores.npy\")[:,0]\n",
    "indexes = np.argsort(shap_scores)[::-1].copy()\n",
    "\n",
    "\n",
    "plt.figure(figsize=(20, 20))\n",
    "\n",
    "print()\n",
    "print(np.bincount(y_data[indexes[:6100]]))\n",
    "# for i, index in enumerate(indexes[:100]):\n",
    "#     inst_x = X_data[index]\n",
    "#     inst_x = inst_x.reshape(28, 28)\n",
    "#     # inst_x = Image.fromarray(np.uint8(inst_x))\n",
    "#     plt.subplot(20, 5, i+1)\n",
    "#     plt.imshow(inst_x, cmap='gray')\n",
    "#     plt.title(y_data[index])"
   ]
  }
 ],
 "metadata": {
  "kernelspec": {
   "display_name": "Python 3.9.13 ('.venv': venv)",
   "language": "python",
   "name": "python3"
  },
  "language_info": {
   "codemirror_mode": {
    "name": "ipython",
    "version": 3
   },
   "file_extension": ".py",
   "mimetype": "text/x-python",
   "name": "python",
   "nbconvert_exporter": "python",
   "pygments_lexer": "ipython3",
   "version": "3.9.13"
  },
  "orig_nbformat": 4,
  "vscode": {
   "interpreter": {
    "hash": "24a20feccd22badaa09d30df77dc61b01315edf2979bdb034bbdc69bbe45bf31"
   }
  }
 },
 "nbformat": 4,
 "nbformat_minor": 2
}
