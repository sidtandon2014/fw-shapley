{
 "cells": [
  {
   "cell_type": "code",
   "execution_count": null,
   "metadata": {
    "scrolled": true
   },
   "outputs": [],
   "source": [
    "#!/usr/bin/python\n",
    "from __future__ import absolute_import\n",
    "\n",
    "import sys\n",
    "sys.path.append(\"../../\")\n",
    "\n",
    "import numpy as np\n",
    "#from tensorflow import keras\n",
    "import pickle\n",
    "import argparse\n",
    "import copy\n",
    "import random\n",
    "import time\n",
    "import torch\n",
    "import torchvision\n",
    "from shapley.apps import Label, Poisoning\n",
    "from shapley.loader import FashionMnist, MNIST, Flower\n",
    "from shapley.measures import KNN_Shapley, KNN_LOO, G_Shapley, LOO, TMC_Shapley, FastWeightedShapley\n",
    "from shapley.utils.plotter import LabelPlotter, PoisoningPlotter\n",
    "\n",
    "%matplotlib inline\n",
    "# import global vars\n",
    "from init import set_seed\n",
    "set_seed()\n",
    "torch.backends.cudnn.enabled = False"
   ]
  },
  {
   "cell_type": "code",
   "execution_count": null,
   "metadata": {},
   "outputs": [],
   "source": [
    "datasource = \"svhn\"\n",
    "model_family = \"resnet18\"\n",
    "app_name = \"noisy_label\"\n",
    "model_checkpoint_dir = f\"../../checkpoints/{app_name}/{datasource}\"\n",
    "\n",
    "train = torchvision.datasets.SVHN(\"./data\", split=\"train\", download=True)\n",
    "test = torchvision.datasets.SVHN(\"./data\", split=\"test\", download=True)\n",
    "\n",
    "\n",
    "X_data, y_data, X_test_data, y_test_data = train.data, train.labels, test.data, test.labels\n",
    "\n",
    "X_data = X_data.astype(np.float32) / 255\n",
    "X_test_data = X_test_data.astype(np.float32) / 255\n",
    "print(X_test_data.shape, X_data.shape)"
   ]
  },
  {
   "cell_type": "code",
   "execution_count": null,
   "metadata": {},
   "outputs": [],
   "source": [
    "import pickle\n",
    "start = time.time()\n",
    "\n",
    "measure_fast_weighted_shapley = FastWeightedShapley(K = 5, model_checkpoint_dir=model_checkpoint_dir)\n",
    "app = Label(X_data, y_data, X_test_data, y_test_data, model_family=model_family, model_checkpoint_dir=model_checkpoint_dir)\n",
    "with open(\"./app_label.pkl\", 'wb') as outp:\n",
    "    pickle.dump(app, outp, pickle.HIGHEST_PROTOCOL)\n",
    "\n",
    "res = app.run(measure_fast_weighted_shapley)\n",
    "res_fwshapley = np.zeros(len(res))\n",
    "for i in range(len(res)): res_fwshapley[i] = res[i][0]\n",
    "print('Fast Weighted Shapley compute time: ',time.time()-start)\n",
    "np.save(f\"../../results/{app_name}/{datasource}/fw_shapley_results.npy\", res)"
   ]
  },
  {
   "cell_type": "markdown",
   "metadata": {},
   "source": [
    "### Get data improtance using other measures"
   ]
  },
  {
   "cell_type": "code",
   "execution_count": null,
   "metadata": {},
   "outputs": [],
   "source": [
    "if 'app' not in locals() or not app:\n",
    "    with open('./app_label.pkl', 'rb') as inp:\n",
    "        app = pickle.load(inp)\n",
    "\n",
    "measure_KNN = KNN_Shapley(K=5)\n",
    "measure_KNNLOO = KNN_LOO(K=5)\n",
    "measure_gshap = G_Shapley()\n",
    "measure_tmc = TMC_Shapley()\n",
    "measure_LOO = LOO()\n",
    "\n",
    "dir_path = f\"../../results/{app_name}/{datasource}\"\n",
    "\n",
    "start = time.time()\n",
    "res_knn = app.run(measure_KNN)\n",
    "print('KNN Shapley compute time: ',time.time()-start)\n",
    "np.save(f\"{dir_path}/knn_shapley_results.npy\", res_knn)\n",
    "\n",
    "start = time.time()\n",
    "res_knnloo = app.run(measure_KNNLOO)\n",
    "print('KNN LOO compute time: ',time.time()-start)\n",
    "np.save(f\"{dir_path}/res_knnloo.npy\", res_knnloo)\n",
    "\n",
    "start = time.time()\n",
    "res_gshap = app.run(measure_gshap)\n",
    "print('GShapley compute time: ',time.time()-start)\n",
    "np.save(f\"{dir_path}/g_shapley_results.npy\", res_gshap)\n",
    "\n",
    "# start = time.time()\n",
    "# res_tmc = app.run(measure_tmc)\n",
    "# print('TMC Shapley compute time: ',time.time()-start)\n",
    "# np.save(f\"{dir_path}/tmc_results.npy\", res_tmc)\n",
    "\n",
    "# start = time.time()\n",
    "# res_loo = app.run(measure_LOO)\n",
    "# print('LOO compute time: ',time.time()-start)\n"
   ]
  },
  {
   "cell_type": "markdown",
   "metadata": {},
   "source": [
    "### Plot importances"
   ]
  },
  {
   "cell_type": "code",
   "execution_count": null,
   "metadata": {},
   "outputs": [],
   "source": [
    "import matplotlib.pyplot as plt\n",
    "plt.hist(res)"
   ]
  },
  {
   "cell_type": "code",
   "execution_count": null,
   "metadata": {},
   "outputs": [],
   "source": [
    "# res_fwshapley = res[:,0]\n",
    "dir_path = f\"../../results/noisy_label/{datasource}\"\n",
    "res_fwshapley = np.load(f\"{dir_path}/fw_shapley_results.npy\")[:,0]\n",
    "# res_knn = np.load(f\"{dir_path}/knn_shapley_torch_results.npy\")\n",
    "# res_gshap = np.load(f\"../../results/fmnist/g_shapley_results.npy\")\n",
    "# res_knnloo = np.load(f\"{dir_path}/res_knnloo.npy\")\n",
    "\n",
    "LabelPlotter(app, \n",
    "                  ('KNN-Shapley',res_knn),\n",
    "                  ('G-Shapley',res_gshap),\n",
    "                  ('KNN-LOO',res_knnloo),\n",
    "                 ('FW-Shapley', res_fwshapley)\n",
    "                 ).plot()"
   ]
  },
  {
   "cell_type": "code",
   "execution_count": null,
   "metadata": {},
   "outputs": [],
   "source": [
    "# res_fwshapley = res[:,0]\n",
    "dir_path = f\"../../results/noisy_label/{datasource}\"\n",
    "res_fwshapley_16_1 = np.load(f\"{dir_path}/fw_shapley_results_16_1.npy\")[:,0]\n",
    "res_fwshapley_8_1 = np.load(f\"{dir_path}/fw_shapley_results_8_1.npy\")[:,0]\n",
    "res_fwshapley_4_1 = np.load(f\"{dir_path}/fw_shapley_results_4_1.npy\")[:,0]\n",
    "# res_knn = np.load(f\"{dir_path}/knn_shapley_torch_results.npy\")\n",
    "# res_gshap = np.load(f\"../../results/fmnist/g_shapley_results.npy\")\n",
    "# res_knnloo = np.load(f\"{dir_path}/res_knnloo.npy\")\n",
    "\n",
    "LabelPlotter(app, \n",
    "                  ('FW-Shapley (4,1)',res_fwshapley_4_1),\n",
    "                  ('FW-Shapley (8,1)',res_fwshapley_8_1),\n",
    "                 ('FW-Shapley (16,1)', res_fwshapley_16_1)\n",
    "                 ).plot()"
   ]
  },
  {
   "cell_type": "code",
   "execution_count": null,
   "metadata": {},
   "outputs": [],
   "source": [
    "# High importance images\n",
    "import matplotlib.pyplot as plt\n",
    "from matplotlib import cm\n",
    "from PIL import Image\n",
    "\n",
    "indexes = np.argsort(res_fwshapley)\n",
    "\n",
    "\n",
    "plt.figure(figsize=(20, 20))\n",
    "\n",
    "\n",
    "for i, index in enumerate(indexes[:20]):\n",
    "    inst_x = X_data[index]\n",
    "    inst_x = inst_x.reshape(28, 28)\n",
    "    # inst_x = Image.fromarray(np.uint8(inst_x))\n",
    "    plt.subplot(10, 5, i+1)\n",
    "    plt.imshow(inst_x, cmap='gray')\n",
    "    plt.title(y_data[index])\n",
    "\n",
    "plt.savefig(f\"./figs/{datasource}/fw-shapley.png\")"
   ]
  },
  {
   "cell_type": "code",
   "execution_count": null,
   "metadata": {},
   "outputs": [],
   "source": [
    "# High importance images\n",
    "\n",
    "import matplotlib.pyplot as plt\n",
    "from matplotlib import cm\n",
    "from PIL import Image\n",
    "\n",
    "indexes = np.argsort(-res_knn)\n",
    "plt.figure(figsize=(20, 20))\n",
    "for i, index in enumerate(indexes[:20]):\n",
    "    inst_x = X_data[index]\n",
    "    inst_x = inst_x.reshape(28, 28)\n",
    "    # inst_x = Image.fromarray(np.uint8(inst_x))\n",
    "    plt.subplot(10, 5, i+1)\n",
    "    plt.imshow(inst_x, cmap='gray')\n",
    "    plt.title(y_data[index])\n"
   ]
  }
 ],
 "metadata": {
  "kernelspec": {
   "display_name": "Python 3.9.13 ('.venv': venv)",
   "language": "python",
   "name": "python3"
  },
  "language_info": {
   "codemirror_mode": {
    "name": "ipython",
    "version": 3
   },
   "file_extension": ".py",
   "mimetype": "text/x-python",
   "name": "python",
   "nbconvert_exporter": "python",
   "pygments_lexer": "ipython3",
   "version": "3.9.13"
  },
  "vscode": {
   "interpreter": {
    "hash": "24a20feccd22badaa09d30df77dc61b01315edf2979bdb034bbdc69bbe45bf31"
   }
  }
 },
 "nbformat": 4,
 "nbformat_minor": 2
}
